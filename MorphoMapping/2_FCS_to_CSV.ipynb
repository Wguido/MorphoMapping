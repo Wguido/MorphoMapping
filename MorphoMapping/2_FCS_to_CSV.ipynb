{
 "cells": [
  {
   "cell_type": "code",
   "execution_count": 11,
   "id": "6d50bdfe",
   "metadata": {},
   "outputs": [],
   "source": [
    "#Author: Amelie Bauerdick\n",
    "#WabnitzLab"
   ]
  },
  {
   "cell_type": "markdown",
   "id": "7d363848",
   "metadata": {},
   "source": [
    "# Import Packages"
   ]
  },
  {
   "cell_type": "code",
   "execution_count": 12,
   "id": "69e83df2",
   "metadata": {},
   "outputs": [],
   "source": [
    "import flowkit as fk\n",
    "import pandas as pd"
   ]
  },
  {
   "cell_type": "markdown",
   "id": "88fd5271",
   "metadata": {},
   "source": [
    "# Load FCS"
   ]
  },
  {
   "cell_type": "code",
   "execution_count": null,
   "id": "fe0ad209",
   "metadata": {},
   "outputs": [],
   "source": [
    "fcs_path = \"/path/data.FCS\"\n",
    "sample = fk.Sample(fcs_path)\n",
    "sample"
   ]
  },
  {
   "cell_type": "markdown",
   "id": "ce9e60da",
   "metadata": {},
   "source": [
    "# Metadata"
   ]
  },
  {
   "cell_type": "code",
   "execution_count": null,
   "id": "7bb6d703",
   "metadata": {},
   "outputs": [],
   "source": [
    "sample.pnn_labels"
   ]
  },
  {
   "cell_type": "markdown",
   "id": "cab4a21c",
   "metadata": {},
   "source": [
    "# Export to CSV"
   ]
  },
  {
   "cell_type": "code",
   "execution_count": 15,
   "id": "52d62ac1",
   "metadata": {},
   "outputs": [],
   "source": [
    "sample.export(filename=\"path/data.csv\",source='raw')"
   ]
  }
 ],
 "metadata": {
  "kernelspec": {
   "display_name": "Promotion",
   "language": "python",
   "name": "promotion"
  },
  "language_info": {
   "codemirror_mode": {
    "name": "ipython",
    "version": 3
   },
   "file_extension": ".py",
   "mimetype": "text/x-python",
   "name": "python",
   "nbconvert_exporter": "python",
   "pygments_lexer": "ipython3",
   "version": "3.9.15"
  },
  "toc-showmarkdowntxt": false
 },
 "nbformat": 4,
 "nbformat_minor": 5
}
