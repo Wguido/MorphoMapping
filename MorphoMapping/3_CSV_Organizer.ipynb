{
 "cells": [
  {
   "cell_type": "code",
   "execution_count": 1,
   "id": "296fdb04",
   "metadata": {},
   "outputs": [],
   "source": [
    "#author: Amelie Bauerdick\n",
    "#WabnitzLab"
   ]
  },
  {
   "cell_type": "markdown",
   "id": "94e92590",
   "metadata": {},
   "source": [
    "# Import Packages"
   ]
  },
  {
   "cell_type": "code",
   "execution_count": 2,
   "id": "29def68e",
   "metadata": {},
   "outputs": [],
   "source": [
    "import pandas as pd"
   ]
  },
  {
   "cell_type": "markdown",
   "id": "a6ec1360",
   "metadata": {},
   "source": [
    "# Load CSV"
   ]
  },
  {
   "cell_type": "code",
   "execution_count": 3,
   "id": "83e0f6be",
   "metadata": {},
   "outputs": [],
   "source": [
    "#files\n",
    "f1=pd.read_csv(\"path/file1.csv\")\n",
    "f2=pd.read_csv(\"path/file2.csv\")\n",
    "f3=pd.read_csv(\"path/file3.csv\")"
   ]
  },
  {
   "cell_type": "markdown",
   "id": "a95807da",
   "metadata": {},
   "source": [
    "# Structure Files"
   ]
  },
  {
   "cell_type": "code",
   "execution_count": null,
   "id": "3f93a672",
   "metadata": {},
   "outputs": [],
   "source": [
    "f1['file_number']=1\n",
    "f1['donor']=1\n",
    "f1['file_name']=\"name\"\n",
    "f1"
   ]
  },
  {
   "cell_type": "code",
   "execution_count": null,
   "id": "5b5dbf87",
   "metadata": {},
   "outputs": [],
   "source": [
    "f1= f1.loc[(f1['population/feature']==1)]\n",
    "f1"
   ]
  },
  {
   "cell_type": "code",
   "execution_count": null,
   "id": "d04a0ddb",
   "metadata": {},
   "outputs": [],
   "source": [
    "f1= f1.sample(10000, random_state = 1).copy()\n",
    "f1.sort_index(inplace=True)\n",
    "f1"
   ]
  },
  {
   "cell_type": "code",
   "execution_count": null,
   "id": "9dc9c195",
   "metadata": {},
   "outputs": [],
   "source": [
    "fI=[f1,f2,f3] \n",
    "data=pd.concat(fI,join='inner')\n",
    "data"
   ]
  },
  {
   "cell_type": "markdown",
   "id": "dc832a74",
   "metadata": {},
   "source": [
    "# Save CSV"
   ]
  },
  {
   "cell_type": "code",
   "execution_count": 35,
   "id": "82d10eac",
   "metadata": {},
   "outputs": [],
   "source": [
    "data.to_csv(\"path/data.csv\",index=True, index_label='index_file')"
   ]
  }
 ],
 "metadata": {
  "kernelspec": {
   "display_name": "Python 3 (ipykernel)",
   "language": "python",
   "name": "python3"
  },
  "language_info": {
   "codemirror_mode": {
    "name": "ipython",
    "version": 3
   },
   "file_extension": ".py",
   "mimetype": "text/x-python",
   "name": "python",
   "nbconvert_exporter": "python",
   "pygments_lexer": "ipython3",
   "version": "3.9.15"
  }
 },
 "nbformat": 4,
 "nbformat_minor": 5
}
