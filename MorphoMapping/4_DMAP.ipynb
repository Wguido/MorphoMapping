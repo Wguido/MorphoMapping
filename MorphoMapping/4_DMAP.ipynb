{
 "cells": [
  {
   "cell_type": "code",
   "execution_count": 1,
   "id": "172a26e5",
   "metadata": {},
   "outputs": [],
   "source": [
    "#author: Amelie Bauerdick\n",
    "#Wabnitz Lab"
   ]
  },
  {
   "cell_type": "markdown",
   "id": "734b748a",
   "metadata": {},
   "source": [
    "# Import Packages"
   ]
  },
  {
   "cell_type": "code",
   "execution_count": 2,
   "id": "7b886529",
   "metadata": {
    "scrolled": true
   },
   "outputs": [],
   "source": [
    "import pandas as pd\n",
    "import numpy as np\n",
    "from matplotlib import pyplot as plt\n",
    "from sklearn.ensemble import RandomForestRegressor\n",
    "from sklearn.model_selection import train_test_split\n",
    "from sklearn.linear_model import LinearRegression\n",
    "from sklearn.preprocessing import MinMaxScaler\n",
    "from sklearn.metrics import r2_score,mean_squared_error\n",
    "import sklearn.cluster as cluster\n",
    "from sklearn.cluster import KMeans \n",
    "import umap\n",
    "import hdbscan"
   ]
  },
  {
   "cell_type": "markdown",
   "id": "2785afb8",
   "metadata": {},
   "source": [
    "# Load CSV"
   ]
  },
  {
   "cell_type": "code",
   "execution_count": null,
   "id": "4c729579",
   "metadata": {},
   "outputs": [],
   "source": [
    "data=pd.read_csv(\"path/data.csv\")\n",
    "data"
   ]
  },
  {
   "cell_type": "code",
   "execution_count": null,
   "id": "27386133",
   "metadata": {},
   "outputs": [],
   "source": [
    "list(data.columns)"
   ]
  },
  {
   "cell_type": "markdown",
   "id": "0994f445",
   "metadata": {},
   "source": [
    "# Rename Features"
   ]
  },
  {
   "cell_type": "code",
   "execution_count": null,
   "id": "22f6e25f",
   "metadata": {},
   "outputs": [],
   "source": [
    "data.columns = data.columns.str.strip().str.replace(' ', '_')\n",
    "data.columns = data.columns.str.strip().str.replace('&', 'and')\n",
    "data.columns = data.columns.str.strip().str.replace('+', 'plus')\n",
    "data.columns = data.columns.str.strip().str.replace('-', 'minus')\n",
    "list(data.columns)"
   ]
  },
  {
   "cell_type": "markdown",
   "id": "de244c66",
   "metadata": {},
   "source": [
    "# Temporary Store Selected Features"
   ]
  },
  {
   "cell_type": "code",
   "execution_count": null,
   "id": "a1e31c1d",
   "metadata": {},
   "outputs": [],
   "source": [
    "feature= data[['feature']].copy()"
   ]
  },
  {
   "cell_type": "markdown",
   "id": "ca1cc959",
   "metadata": {},
   "source": [
    "# Drop Features"
   ]
  },
  {
   "cell_type": "code",
   "execution_count": 7,
   "id": "602a07e1",
   "metadata": {},
   "outputs": [],
   "source": [
    "data = data.drop(columns=[\n",
    " 'feature1',\n",
    " 'feature2'\n",
    " ])"
   ]
  },
  {
   "cell_type": "code",
   "execution_count": null,
   "id": "2b0d307d",
   "metadata": {},
   "outputs": [],
   "source": [
    "list(data.columns)"
   ]
  },
  {
   "cell_type": "markdown",
   "id": "eac8804f",
   "metadata": {},
   "source": [
    "# Normalization"
   ]
  },
  {
   "cell_type": "code",
   "execution_count": 9,
   "id": "098466ab",
   "metadata": {
    "scrolled": true
   },
   "outputs": [],
   "source": [
    "def minmax_norm(df):\n",
    "  return (df - df.min()) / ( df.max() - df.min())"
   ]
  },
  {
   "cell_type": "code",
   "execution_count": 10,
   "id": "70fc073a",
   "metadata": {
    "scrolled": true
   },
   "outputs": [],
   "source": [
    "data= minmax_norm(data)"
   ]
  },
  {
   "cell_type": "markdown",
   "id": "2f737916",
   "metadata": {},
   "source": [
    "# DensMAP"
   ]
  },
  {
   "cell_type": "code",
   "execution_count": 11,
   "id": "d7f97941",
   "metadata": {
    "scrolled": true
   },
   "outputs": [],
   "source": [
    "reducer = umap.UMAP(densmap=True, \n",
    "                    dens_lambda=1, \n",
    "                    n_neighbors=20,\n",
    "                    min_dist=0.5,\n",
    "                    metric='euclidean')"
   ]
  },
  {
   "cell_type": "code",
   "execution_count": null,
   "id": "bb21542e",
   "metadata": {},
   "outputs": [],
   "source": [
    "%time embedding = reducer.fit_transform(data)\n",
    "embedding.shape"
   ]
  },
  {
   "cell_type": "code",
   "execution_count": 13,
   "id": "70f378fe",
   "metadata": {
    "scrolled": true
   },
   "outputs": [],
   "source": [
    "x = embedding[:, 0]\n",
    "y =  embedding[:, 1]"
   ]
  },
  {
   "cell_type": "code",
   "execution_count": 14,
   "id": "846da2f3",
   "metadata": {},
   "outputs": [],
   "source": [
    "data['x']=x\n",
    "data['y']=y"
   ]
  },
  {
   "cell_type": "markdown",
   "id": "367c3181",
   "metadata": {},
   "source": [
    "# Random Forest Regression for DensMAP-1"
   ]
  },
  {
   "cell_type": "code",
   "execution_count": 15,
   "id": "8d4796ef",
   "metadata": {},
   "outputs": [],
   "source": [
    "data1=data.copy()\n",
    "data1=data1.drop('y',axis=1)"
   ]
  },
  {
   "cell_type": "markdown",
   "id": "c3cdf037",
   "metadata": {},
   "source": [
    "# Split Data"
   ]
  },
  {
   "cell_type": "code",
   "execution_count": null,
   "id": "45755f62",
   "metadata": {},
   "outputs": [],
   "source": [
    "train_df, test_df = train_test_split(data1, test_size=0.2, random_state=42)\n",
    "\n",
    "# dependent variable -> x\n",
    "X_train = train_df.drop('x', axis=1)\n",
    "y_train = train_df['x']\n",
    "X_test = test_df.drop('x', axis=1)\n",
    "y_test = test_df['x']\n",
    "\n",
    "print(\"length of data for training:\", len(X_train))\n",
    "print(\"length of data for testing:\", len(X_test))"
   ]
  },
  {
   "cell_type": "markdown",
   "id": "a412888e",
   "metadata": {},
   "source": [
    "# RandomForestRegressor"
   ]
  },
  {
   "cell_type": "code",
   "execution_count": null,
   "id": "401137b5",
   "metadata": {},
   "outputs": [],
   "source": [
    "# run RandomForestRegressor\n",
    "model = RandomForestRegressor(n_estimators=100, random_state=42)\n",
    "model.fit(X_train, y_train)\n",
    "\n",
    "# predict dependent variable\n",
    "y_pred = model.predict(X_test)\n",
    "\n",
    "# r²-value calculation\n",
    "r2 = r2_score(y_test, y_pred)\n",
    "print(\"r² Score:\", r2)"
   ]
  },
  {
   "cell_type": "markdown",
   "id": "6099d31e",
   "metadata": {},
   "source": [
    "# Feature Importance"
   ]
  },
  {
   "cell_type": "code",
   "execution_count": null,
   "id": "82d7e731",
   "metadata": {},
   "outputs": [],
   "source": [
    "#save importance\n",
    "importance = model.feature_importances_\n",
    "\n",
    "# sort features according to importance\n",
    "s_id = np.argsort(importance)\n",
    "pos = np.arange(s_id.shape[0])\n",
    "\n",
    "# MinMax scaling\n",
    "scaler = MinMaxScaler()\n",
    "importance_scaled = scaler.fit_transform(importance.reshape(-1, 1)).flatten()\n",
    "\n",
    "#importance \n",
    "total_importance = np.sum(importance_scaled)\n",
    "percentage_importance = (importance_scaled / total_importance) * 100\n",
    "\n",
    "# show top ten\n",
    "top_n = 10\n",
    "s_id = s_id[-top_n:]\n",
    "features = pd.DataFrame({'index1': np.array(X_train.columns)[s_id], 'importance_normalized': importance_scaled[s_id], 'percentage_importance': percentage_importance[s_id]})\n",
    "\n",
    "features"
   ]
  },
  {
   "cell_type": "markdown",
   "id": "2a403d2c",
   "metadata": {},
   "source": [
    "# Plot Feature Importance"
   ]
  },
  {
   "cell_type": "code",
   "execution_count": null,
   "id": "abb767e2",
   "metadata": {},
   "outputs": [],
   "source": [
    "# rename features\n",
    "row_labels = {\n",
    "    'feature1': 'feature 1',\n",
    "    'feature2': 'feature 2',\n",
    "}\n",
    "\n",
    "features['index1'] = features['index1'].map(row_labels)\n",
    "\n",
    "ax = features.plot.bar(x='index1', y='importance_normalized', color='darkgray', legend=False, figsize=(10,5), width=0.8, fontsize=20)\n",
    "plt.xlabel('')\n",
    "plt.ylabel('Importance', fontsize=20)\n",
    "\n",
    "# position percentage values\n",
    "for i, v in enumerate(features['percentage_importance']):\n",
    "    if features['importance_normalized'][i] + 0.01 > 1.1:\n",
    "        text_height = 1\n",
    "    else:\n",
    "        text_height = features['importance_normalized'][i] + 0.01\n",
    "    ax.text(i, text_height, f'{v:.1f}%', ha='center', va='bottom', fontsize=16, color='black')\n",
    "\n",
    "\n",
    "plt.title(f'Top 10 Features DensMAP-1', fontsize=30, loc='left')\n",
    "# add r2 score\n",
    "#plt.text(0.98, 1.03, f'r² score: {r2:.2f}', horizontalalignment='right', verticalalignment='center', transform=ax.transAxes, fontsize=12, fontweight='normal')\n",
    "plt.ylim(0, 1.1) \n",
    "plt.xticks(rotation=45, ha='right')\n",
    "\n",
    "plt.savefig('png/DensMAP1.png', dpi=300, bbox_inches = 'tight')\n",
    "\n",
    "plt.show()"
   ]
  },
  {
   "cell_type": "markdown",
   "id": "c411b521",
   "metadata": {},
   "source": [
    "# Random Forest Regression for DensMAP-2"
   ]
  },
  {
   "cell_type": "code",
   "execution_count": 20,
   "id": "8bc77dfe",
   "metadata": {},
   "outputs": [],
   "source": [
    "data2=data.copy()\n",
    "data2=data2.drop('x',axis=1)"
   ]
  },
  {
   "cell_type": "markdown",
   "id": "ee4f3af4",
   "metadata": {},
   "source": [
    "# Split Data"
   ]
  },
  {
   "cell_type": "code",
   "execution_count": null,
   "id": "8b2f98fc",
   "metadata": {},
   "outputs": [],
   "source": [
    "train_df, test_df = train_test_split(data2, test_size=0.2, random_state=42)\n",
    "\n",
    "# dependent variable -> y\n",
    "X_train = train_df.drop('y', axis=1)\n",
    "y_train = train_df['y']\n",
    "X_test = test_df.drop('y', axis=1)\n",
    "y_test = test_df['y']\n",
    "\n",
    "print(\"length of data for training:\", len(X_train))\n",
    "print(\"length of data for testing:\", len(X_test))"
   ]
  },
  {
   "cell_type": "markdown",
   "id": "3d69f006",
   "metadata": {},
   "source": [
    "# RandomForestRegressor"
   ]
  },
  {
   "cell_type": "code",
   "execution_count": null,
   "id": "07bfa2d1",
   "metadata": {},
   "outputs": [],
   "source": [
    "# run RandomForestRegressor\n",
    "model = RandomForestRegressor(n_estimators=100, random_state=42)\n",
    "model.fit(X_train, y_train)\n",
    "\n",
    "# predict dependent variable\n",
    "y_pred = model.predict(X_test)\n",
    "\n",
    "# r²-value calculation\n",
    "r2 = r2_score(y_test, y_pred)\n",
    "print(\"r² score:\", r2)"
   ]
  },
  {
   "cell_type": "markdown",
   "id": "4b804b2a",
   "metadata": {},
   "source": [
    "# Feature Importance"
   ]
  },
  {
   "cell_type": "code",
   "execution_count": null,
   "id": "70f8ca5f",
   "metadata": {},
   "outputs": [],
   "source": [
    "#save importance\n",
    "importance = model.feature_importances_\n",
    "\n",
    "# sort features according to importance\n",
    "s_id = np.argsort(importance)\n",
    "pos = np.arange(s_id.shape[0])\n",
    "\n",
    "# MinMax scaling\n",
    "scaler = MinMaxScaler()\n",
    "importance_scaled = scaler.fit_transform(importance.reshape(-1, 1)).flatten()\n",
    "\n",
    "#importance \n",
    "total_importance = np.sum(importance_scaled)\n",
    "percentage_importance = (importance_scaled / total_importance) * 100\n",
    "\n",
    "# show top ten\n",
    "top_n = 10\n",
    "s_id = s_id[-top_n:]\n",
    "features = pd.DataFrame({'index1': np.array(X_train.columns)[s_id], 'importance_normalized': importance_scaled[s_id], 'percentage_importance': percentage_importance[s_id]})\n",
    "\n",
    "features"
   ]
  },
  {
   "cell_type": "markdown",
   "id": "a012bb94",
   "metadata": {},
   "source": [
    "# Plot Feature Importance"
   ]
  },
  {
   "cell_type": "code",
   "execution_count": null,
   "id": "4c5e68bf",
   "metadata": {},
   "outputs": [],
   "source": [
    "# rename features\n",
    "row_labels = {\n",
    "    'feature1': 'feature 1',\n",
    "    'feature2': 'feature 2'\n",
    "}\n",
    "\n",
    "features['index1'] = features['index1'].map(row_labels)\n",
    "\n",
    "ax = features.plot.bar(x='index1', y='importance_normalized', color='darkgray', legend=False, figsize=(10,5), width=0.8, fontsize=20)\n",
    "plt.xlabel('')\n",
    "plt.ylabel('Importance', fontsize=20)\n",
    "\n",
    "# position percentage values\n",
    "for i, v in enumerate(features['percentage_importance']):\n",
    "    if features['importance_normalized'][i] + 0.01 > 1.1:\n",
    "        text_height = 1\n",
    "    else:\n",
    "        text_height = features['importance_normalized'][i] + 0.01\n",
    "    ax.text(i, text_height, f'{v:.1f}%', ha='center', va='bottom', fontsize=16, color='black')\n",
    "\n",
    "plt.title(f'Top 10 Features DensMAP-2', fontsize=30, loc='left')\n",
    "# add r2 score\n",
    "#plt.text(0.98, 1.03, f'r² score: {r2:.2f}', horizontalalignment='right', verticalalignment='center', transform=ax.transAxes, fontsize=12, fontweight='normal')\n",
    "plt.ylim(0, 1.1) \n",
    "plt.xticks(rotation=45, ha='right')\n",
    "\n",
    "plt.savefig('png/DensMAP2.png', dpi=300, bbox_inches = 'tight')\n",
    "\n",
    "plt.show()"
   ]
  },
  {
   "cell_type": "markdown",
   "id": "ab215ba3",
   "metadata": {},
   "source": [
    "# Concatenate Features"
   ]
  },
  {
   "cell_type": "code",
   "execution_count": null,
   "id": "0e94d131",
   "metadata": {},
   "outputs": [],
   "source": [
    "frames=[data,feature]\n",
    "data=pd.concat(frames, axis=1)\n",
    "data"
   ]
  },
  {
   "cell_type": "markdown",
   "id": "e011c0c2",
   "metadata": {},
   "source": [
    "# DensMAP"
   ]
  },
  {
   "cell_type": "code",
   "execution_count": 26,
   "id": "c0f8193f",
   "metadata": {},
   "outputs": [],
   "source": [
    "data.to_csv(\"path/DMAP.csv\",index=False)"
   ]
  }
 ],
 "metadata": {
  "kernelspec": {
   "display_name": "Python 3 (ipykernel)",
   "language": "python",
   "name": "python3"
  },
  "language_info": {
   "codemirror_mode": {
    "name": "ipython",
    "version": 3
   },
   "file_extension": ".py",
   "mimetype": "text/x-python",
   "name": "python",
   "nbconvert_exporter": "python",
   "pygments_lexer": "ipython3",
   "version": "3.9.15"
  }
 },
 "nbformat": 4,
 "nbformat_minor": 5
}
