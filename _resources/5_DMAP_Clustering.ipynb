{
 "cells": [
  {
   "cell_type": "code",
   "execution_count": 1,
   "id": "500677c1",
   "metadata": {},
   "outputs": [],
   "source": [
    "#author: Amelie Bauerdick\n",
    "#Wabnitz Lab"
   ]
  },
  {
   "cell_type": "markdown",
   "id": "aaf7cbfb",
   "metadata": {},
   "source": [
    "# Import Packages"
   ]
  },
  {
   "cell_type": "code",
   "execution_count": 2,
   "id": "a16b6c74",
   "metadata": {},
   "outputs": [],
   "source": [
    "import pandas as pd\n",
    "import numpy as np\n",
    "from matplotlib import pyplot as plt\n",
    "import sklearn.cluster as cluster\n",
    "from sklearn.cluster import KMeans \n",
    "from sklearn.mixture import GaussianMixture\n",
    "import hdbscan"
   ]
  },
  {
   "cell_type": "markdown",
   "id": "e4c60950",
   "metadata": {},
   "source": [
    "# Load CSV"
   ]
  },
  {
   "cell_type": "code",
   "execution_count": null,
   "id": "ab138c96",
   "metadata": {},
   "outputs": [],
   "source": [
    "data=pd.read_csv(\"path/DMAP.csv\")\n",
    "data"
   ]
  },
  {
   "cell_type": "code",
   "execution_count": null,
   "id": "8d141751",
   "metadata": {},
   "outputs": [],
   "source": [
    "list(data.columns)"
   ]
  },
  {
   "cell_type": "markdown",
   "id": "c3ba8663",
   "metadata": {},
   "source": [
    "# Store Features Temporarily"
   ]
  },
  {
   "cell_type": "code",
   "execution_count": 5,
   "id": "cf2f1402",
   "metadata": {},
   "outputs": [],
   "source": [
    "feature= data[['feature']].copy()"
   ]
  },
  {
   "cell_type": "code",
   "execution_count": 6,
   "id": "9059aca8",
   "metadata": {},
   "outputs": [],
   "source": [
    "data = data.drop(columns=[                       \n",
    "                          'feature'\n",
    "                         ])"
   ]
  },
  {
   "cell_type": "markdown",
   "id": "3da0ed64",
   "metadata": {},
   "source": [
    "# K-Means"
   ]
  },
  {
   "cell_type": "code",
   "execution_count": 9,
   "id": "7dd600d1",
   "metadata": {},
   "outputs": [],
   "source": [
    "kmeans_labels = cluster.KMeans(n_clusters=9).fit_predict(data)"
   ]
  },
  {
   "cell_type": "code",
   "execution_count": null,
   "id": "735a3e0f",
   "metadata": {},
   "outputs": [],
   "source": [
    "plt.style.use('seaborn-v0_8-poster')\n",
    "plt.figure(figsize=(6, 6))\n",
    "\n",
    "plt.scatter(data[['x']],data[['y']], c=kmeans_labels, s=1, cmap='Set1');\n",
    "plt.title('K-Means Clustering')\n",
    "plt.xlabel('DensMap-1')\n",
    "plt.ylabel('DensMAP-2')\n",
    "plt.xlim(-10, 18)\n",
    "plt.ylim(-5, 22)\n",
    "\n",
    "plt.savefig('png/kmeans', dpi=300, bbox_inches = 'tight')"
   ]
  },
  {
   "cell_type": "markdown",
   "id": "8b7c8252",
   "metadata": {},
   "source": [
    "# Gaussian Mixture"
   ]
  },
  {
   "cell_type": "code",
   "execution_count": 12,
   "id": "483f13e7",
   "metadata": {},
   "outputs": [],
   "source": [
    "gmm = GaussianMixture(n_components=9, random_state=42)\n",
    "gmm.fit(data)\n",
    "gaussian_labels = gmm.predict(data)"
   ]
  },
  {
   "cell_type": "code",
   "execution_count": null,
   "id": "0285feb4",
   "metadata": {},
   "outputs": [],
   "source": [
    "plt.style.use('seaborn-v0_8-poster')\n",
    "plt.figure(figsize=(6, 6))\n",
    "\n",
    "plt.scatter(data[['x']],data[['y']], c=gaussian_labels, s=1, cmap='Set1');\n",
    "plt.title('Gaussian Mixture Clustering')\n",
    "plt.xlabel('DensMAP-1')\n",
    "plt.ylabel('DensMAP-2')\n",
    "plt.xlim(-10, 18)\n",
    "plt.ylim(-5, 22)\n",
    "\n",
    "plt.savefig('png/gaussian', dpi=300, bbox_inches = 'tight')"
   ]
  },
  {
   "cell_type": "markdown",
   "id": "3d4da286",
   "metadata": {},
   "source": [
    "# HDBSCAN"
   ]
  },
  {
   "cell_type": "code",
   "execution_count": 14,
   "id": "f09ffbdb",
   "metadata": {},
   "outputs": [],
   "source": [
    "clusterer = hdbscan.HDBSCAN(min_cluster_size=300,gen_min_span_tree=True)\n",
    "clusterer.fit(data)\n",
    "hdbscan_labels = clusterer.labels_\n",
    "outliers_mask = hdbscan_labels == -1"
   ]
  },
  {
   "cell_type": "code",
   "execution_count": null,
   "id": "2a58da4c",
   "metadata": {},
   "outputs": [],
   "source": [
    "plt.style.use('seaborn-v0_8-poster')\n",
    "plt.figure(figsize=(6, 6))\n",
    "\n",
    "plt.scatter(data[['x']],data[['y']] , c=hdbscan_labels, cmap='Spectral', s=5)\n",
    "plt.scatter(data.loc[outliers_mask, 'x'], data.loc[outliers_mask, 'y'],s=4, c='gray', marker='v', label='Outliers', alpha=0.5)\n",
    "plt.title('HDBSCAN Clustering')\n",
    "plt.xlabel('DensMAP-1')\n",
    "plt.ylabel('DensMAP-2')\n",
    "plt.xlim(-10, 18)\n",
    "plt.ylim(-5, 22)\n",
    "plt.legend(markerscale=6)\n",
    "\n",
    "plt.savefig('png/hdbscan', dpi=300, bbox_inches = 'tight')\n",
    "plt.show()"
   ]
  },
  {
   "cell_type": "markdown",
   "id": "c9e0c7d7",
   "metadata": {},
   "source": [
    "# Save Data"
   ]
  },
  {
   "cell_type": "code",
   "execution_count": 16,
   "id": "a2abc842",
   "metadata": {},
   "outputs": [],
   "source": [
    "#data['cluster'] = kmeans_labels.tolist()\n",
    "data['cluster'] = gaussian_labels.tolist()\n",
    "#data['cluster'] = hdbscan_labels.tolist()"
   ]
  },
  {
   "cell_type": "code",
   "execution_count": null,
   "id": "c404784f",
   "metadata": {},
   "outputs": [],
   "source": [
    "frames=[data,feature]\n",
    "data=pd.concat(frames, axis=1)\n",
    "data"
   ]
  },
  {
   "cell_type": "code",
   "execution_count": 19,
   "id": "ee2a749e",
   "metadata": {},
   "outputs": [],
   "source": [
    "data.to_csv(\"path/DMAP_2.csv\",index=False)"
   ]
  },
  {
   "cell_type": "code",
   "execution_count": 20,
   "id": "12dc37dc",
   "metadata": {},
   "outputs": [],
   "source": [
    "data.to_excel(\"path/DMAP_2.xlsx\",index=False)"
   ]
  }
 ],
 "metadata": {
  "kernelspec": {
   "display_name": "Promotion",
   "language": "python",
   "name": "promotion"
  },
  "language_info": {
   "codemirror_mode": {
    "name": "ipython",
    "version": 3
   },
   "file_extension": ".py",
   "mimetype": "text/x-python",
   "name": "python",
   "nbconvert_exporter": "python",
   "pygments_lexer": "ipython3",
   "version": "3.9.15"
  }
 },
 "nbformat": 4,
 "nbformat_minor": 5
}
